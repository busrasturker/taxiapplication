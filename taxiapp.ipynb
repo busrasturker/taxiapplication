{
  "nbformat": 4,
  "nbformat_minor": 0,
  "metadata": {
    "colab": {
      "provenance": [],
      "authorship_tag": "ABX9TyMn+kY2mrVsYYF31DSJYh+U",
      "include_colab_link": true
    },
    "kernelspec": {
      "name": "python3",
      "display_name": "Python 3"
    },
    "language_info": {
      "name": "python"
    }
  },
  "cells": [
    {
      "cell_type": "markdown",
      "metadata": {
        "id": "view-in-github",
        "colab_type": "text"
      },
      "source": [
        "<a href=\"https://colab.research.google.com/github/busrasturker/taxiapplication/blob/main/taxiapp.ipynb\" target=\"_parent\"><img src=\"https://colab.research.google.com/assets/colab-badge.svg\" alt=\"Open In Colab\"/></a>"
      ]
    },
    {
      "cell_type": "code",
      "execution_count": 17,
      "metadata": {
        "id": "_RNuDqucicH2"
      },
      "outputs": [],
      "source": [
        "import math\n",
        "import random\n",
        "\n",
        "class Taxi():\n",
        "\n",
        "\n",
        "    def __init__(self, license_plate, size, x, y, driver):\n",
        "        self.license_plate = license_plate\n",
        "        self.size = size\n",
        "        self.x = x\n",
        "        self.y = y\n",
        "        self.driver = driver\n",
        "        self.driver.on_road = True\n",
        "        self.has_passenger = False\n",
        "        self.passenger = None\n",
        "\n",
        "    def move(self, x, y):\n",
        "        gas_price = int(self.calculate_distance(x, y, self.x, self.y) *  self.size_multiplier[self.size])\n",
        "        price = int(self.calculate_distance(x, y, self.x, self.y) * self.price_per_meter * price_multiplier)\n",
        "        self.x = x\n",
        "        self.y = y\n",
        "        self.driver.x = x\n",
        "        self.driver.y = y\n",
        "        self.driver.money -= gas_price\n",
        "        if self.has_passenger:\n",
        "            self.passenger.x = x\n",
        "            self.passenger.y = y\n",
        "            self.passenger_drop_off(price)\n",
        "\n",
        "    def get_passenger(self, passenger):\n",
        "        if passenger.x == self.x and passenger.y == self.y:\n",
        "            self.has_passenger = True\n",
        "            self.passenger = passenger\n",
        "            self.passenger.on_road = True\n",
        "            return True\n",
        "        else:\n",
        "            return False\n",
        "\n",
        "    def passenger_drop_off(self, price):\n",
        "        self.passenger.money -= price\n",
        "        self.driver.money += price\n",
        "        self.passenger.on_road = False\n",
        "        self.has_passenger = False\n",
        "        self.passenger = None\n",
        "\n",
        "    def calculate_distance(self, x1, y1, x2, y2):\n",
        "        return math.sqrt((x2 - x1) ** 2 + (y2 - y1) ** 2)\n",
        "    def __str__(self):\n",
        "        return f\"Taxi: License Plate - {self.license_plate}, Size - {self.size}, Driver - {self.driver}, Position - ({self.x}, {self.y}), Has Passenger - {self.has_passenger}\""
      ]
    },
    {
      "cell_type": "code",
      "source": [
        "class Person():\n",
        "\n",
        "  def __init__(self,id_number,money,x,y):\n",
        "      self.id_number = id_number\n",
        "      self.money = money\n",
        "      self.x = x\n",
        "      self.y = y\n",
        "      self.on_road = False\n",
        "  def __str__(self):\n",
        "      return f\"Person ID: {self.id_number}, Money: {self.money}, Position: ({self.x}, {self.y}), On Road: {self.on_road}\""
      ],
      "metadata": {
        "id": "MjAT6pOoj4Ak"
      },
      "execution_count": 18,
      "outputs": []
    },
    {
      "cell_type": "code",
      "source": [
        "idcount = 0\n",
        "license_plate_count = 100000\n",
        "person1 = Person(idcount,100,0,0)\n",
        "idcount+=1\n",
        "taxi1 = Taxi(license_plate_count,\"large\",0,0,person1)\n",
        "person2 = Person(idcount,250,50,50)\n",
        "\n",
        "taxi1.driver.on_road = True\n",
        "\n",
        "taxi1.get_passenger(person2)\n",
        "\n",
        "\n",
        "print(taxi1)\n",
        "print(person2)\n"
      ],
      "metadata": {
        "colab": {
          "base_uri": "https://localhost:8080/"
        },
        "id": "C-wRC_zBk9f2",
        "outputId": "fa9792e1-f44d-4ffb-8e79-ac9057629cef"
      },
      "execution_count": 19,
      "outputs": [
        {
          "output_type": "stream",
          "name": "stdout",
          "text": [
            "Taxi: License Plate - 100000, Size - large, Driver - Person ID: 0, Money: 100, Position: (0, 0), On Road: True, Position - (0, 0), Has Passenger - False\n",
            "Person ID: 1, Money: 250, Position: (50, 50), On Road: False\n"
          ]
        }
      ]
    },
    {
      "cell_type": "code",
      "source": [
        "persons = []\n",
        "for i in range(100):\n",
        "    id_number = i\n",
        "    money = random.randint(200, 500)\n",
        "    x = random.randint(0, 1000)\n",
        "    y = random.randint(0, 1000)\n",
        "    person = Person(id_number, money, x, y)\n",
        "    persons.append(person)\n",
        "\n",
        "# Create a list of unique driver assignments\n",
        "available_persons = persons[:]\n",
        "random.shuffle(available_persons)\n",
        "license_plate_count = 1000\n",
        "# Create 10 taxis with pre-assigned drivers\n",
        "taxis = []\n",
        "for i in range(10):\n",
        "    license_plate = license_plate_count\n",
        "    size = random.choice([\"small\", \"medium\", \"large\"])\n",
        "    x = random.randint(0, 1000)\n",
        "    y = random.randint(0, 1000)\n",
        "    driver = available_persons.pop()\n",
        "    taxi = Taxi(license_plate, size, x, y, driver)\n",
        "    taxis.append(taxi)\n",
        "    license_plate_count += 1\n",
        "print(taxis[0])\n",
        "average_money_before_sim = 0\n",
        "for taxi in taxis:\n",
        "  average_money_before_sim += taxi.driver.money\n",
        "average_money_before_sim = average_money_before_sim // 10\n",
        "for passenger in persons:\n",
        "  if passenger.on_road == True:\n",
        "      continue\n",
        "  minimum_distance = 9999999999999999999\n",
        "  minimum_taxi = None\n",
        "  for taxi in taxis:\n",
        "      if taxi.calculate_distance(taxi.x,taxi.y,passenger.x,passenger.y) < minimum_distance:\n",
        "        minimum_distance = taxi.calculate_distance(taxi.x,taxi.y,passenger.x,passenger.y)\n",
        "        minimum_taxi = taxi\n",
        "\n",
        "\n",
        "minimum_taxi.get_passenger(passenger)\n",
        "new_x , new_y = random.randint(0, 1000),random.randint(0, 1000)\n",
        "\n",
        "average_money_after_sim = 0\n",
        "for taxi in taxis:\n",
        "  average_money_after_sim += taxi.driver.money\n",
        "average_money_after_sim = average_money_after_sim // 10\n",
        "print(average_money_before_sim, average_money_after_sim)\n",
        "\n"
      ],
      "metadata": {
        "colab": {
          "base_uri": "https://localhost:8080/"
        },
        "id": "Wr62scPoyZuU",
        "outputId": "1175352b-83b4-419a-8f55-d77d7fbb66a2"
      },
      "execution_count": 20,
      "outputs": [
        {
          "output_type": "stream",
          "name": "stdout",
          "text": [
            "Taxi: License Plate - 1000, Size - small, Driver - Person ID: 87, Money: 367, Position: (554, 225), On Road: True, Position - (146, 24), Has Passenger - False\n",
            "369 369\n"
          ]
        }
      ]
    }
  ]
}